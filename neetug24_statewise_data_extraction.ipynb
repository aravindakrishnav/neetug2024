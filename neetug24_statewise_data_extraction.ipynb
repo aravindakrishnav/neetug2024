{
 "cells": [
  {
   "cell_type": "markdown",
   "metadata": {},
   "source": [
    "# NEET-UG 2024 Data Extraction - Tamil Nadu"
   ]
  },
  {
   "cell_type": "markdown",
   "metadata": {},
   "source": [
    "### The code given below can be used to extract data from any state. Just make sure to change the start_num and end_num variables to the minimum value and maximum value of the exam codes respectively in that particular state."
   ]
  },
  {
   "cell_type": "code",
   "execution_count": null,
   "metadata": {},
   "outputs": [],
   "source": [
    "import tqdm\n",
    "import requests\n",
    "from urllib.parse import urlparse\n",
    "from requests.exceptions import RequestException\n",
    "from concurrent.futures import ThreadPoolExecutor, as_completed\n",
    "\n",
    "def download_pdf_from_url(url, save_path):\n",
    "    try:\n",
    "        response = requests.get(url)\n",
    "       \n",
    "        if response.status_code == 200:\n",
    "            if response.headers.get('content-type') == 'application/pdf':\n",
    "                parsed_url = urlparse(url)\n",
    "                filename = parsed_url.path.split('/')[-1]\n",
    "               \n",
    "                with open(save_path + filename, 'wb') as f:\n",
    "                    f.write(response.content)\n",
    "               \n",
    "            else:\n",
    "                pass\n",
    "        else:\n",
    "            pass\n",
    "   \n",
    "    except RequestException as e:\n",
    "        print(f\"Skipping URL {url}: Error occurred during request: {str(e)}\")\n",
    "\n",
    "def process_batch(start, end, url_base, save_path):\n",
    "    for i in range(start, end + 1):\n",
    "        url = f\"{url_base}{i}.pdf\"\n",
    "        download_pdf_from_url(url, save_path)\n",
    "\n",
    "url_base = 'https://neetfs.ntaonline.in/NEET_2024_Result/'\n",
    "start_num = 410000\n",
    "end_num = 414000\n",
    "\n",
    "save_path = 'D:\\\\NEET UG 2024 Analysis\\\\Center Data PDFs\\\\' \n",
    "\n",
    "num_threads = 10\n",
    "batch_size = (end_num - start_num + 1) // num_threads\n",
    "\n",
    "with ThreadPoolExecutor(max_workers=num_threads) as executor:\n",
    "    futures = []\n",
    "    for i in range(num_threads):\n",
    "        batch_start = start_num + i * batch_size\n",
    "        batch_end = batch_start + batch_size - 1\n",
    "        if i == num_threads - 1:\n",
    "            batch_end = end_num  \n",
    "        futures.append(executor.submit(process_batch, batch_start, batch_end, url_base, save_path))\n",
    "\n",
    "    for future in tqdm.tqdm(as_completed(futures), total=num_threads):\n",
    "        future.result()\n"
   ]
  }
 ],
 "metadata": {
  "language_info": {
   "name": "python"
  }
 },
 "nbformat": 4,
 "nbformat_minor": 2
}
